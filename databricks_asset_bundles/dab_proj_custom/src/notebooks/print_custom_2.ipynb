{
 "cells": [
  {
   "cell_type": "markdown",
   "id": "16b3728f",
   "metadata": {},
   "source": [
    "Hello Bro"
   ]
  },
  {
   "cell_type": "code",
   "execution_count": null,
   "id": "657a08a5",
   "metadata": {},
   "outputs": [],
   "source": [
    "print(\"Hello bro\")"
   ]
  }
 ],
 "metadata": {
  "language_info": {
   "name": "python"
  }
 },
 "nbformat": 4,
 "nbformat_minor": 5
}
