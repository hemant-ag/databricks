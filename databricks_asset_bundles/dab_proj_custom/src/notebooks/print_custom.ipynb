{
 "cells": [
  {
   "cell_type": "markdown",
   "id": "8cfdeb7b",
   "metadata": {},
   "source": [
    "Print something"
   ]
  },
  {
   "cell_type": "code",
   "execution_count": null,
   "id": "015b4629",
   "metadata": {},
   "outputs": [],
   "source": [
    "print(\"a custom message to show\")"
   ]
  }
 ],
 "metadata": {
  "language_info": {
   "name": "python"
  }
 },
 "nbformat": 4,
 "nbformat_minor": 5
}
