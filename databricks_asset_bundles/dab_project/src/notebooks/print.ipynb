{
 "cells": [
  {
   "cell_type": "code",
   "execution_count": null,
   "id": "25fca605",
   "metadata": {},
   "outputs": [],
   "source": [
    "print('Hello, World')"
   ]
  }
 ],
 "metadata": {
  "language_info": {
   "name": "python"
  }
 },
 "nbformat": 4,
 "nbformat_minor": 5
}
